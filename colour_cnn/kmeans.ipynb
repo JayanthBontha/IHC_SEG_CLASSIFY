{
 "cells": [
  {
   "cell_type": "code",
   "execution_count": 15,
   "metadata": {},
   "outputs": [],
   "source": [
    "import pandas as pd\n",
    "df = pd.read_csv('finaldata_lab.csv')\n",
    "features = df[['L', 'A', 'B']].values\n"
   ]
  },
  {
   "cell_type": "code",
   "execution_count": 12,
   "metadata": {},
   "outputs": [
    {
     "data": {
      "text/html": [
       "<style>#sk-container-id-2 {color: black;background-color: white;}#sk-container-id-2 pre{padding: 0;}#sk-container-id-2 div.sk-toggleable {background-color: white;}#sk-container-id-2 label.sk-toggleable__label {cursor: pointer;display: block;width: 100%;margin-bottom: 0;padding: 0.3em;box-sizing: border-box;text-align: center;}#sk-container-id-2 label.sk-toggleable__label-arrow:before {content: \"▸\";float: left;margin-right: 0.25em;color: #696969;}#sk-container-id-2 label.sk-toggleable__label-arrow:hover:before {color: black;}#sk-container-id-2 div.sk-estimator:hover label.sk-toggleable__label-arrow:before {color: black;}#sk-container-id-2 div.sk-toggleable__content {max-height: 0;max-width: 0;overflow: hidden;text-align: left;background-color: #f0f8ff;}#sk-container-id-2 div.sk-toggleable__content pre {margin: 0.2em;color: black;border-radius: 0.25em;background-color: #f0f8ff;}#sk-container-id-2 input.sk-toggleable__control:checked~div.sk-toggleable__content {max-height: 200px;max-width: 100%;overflow: auto;}#sk-container-id-2 input.sk-toggleable__control:checked~label.sk-toggleable__label-arrow:before {content: \"▾\";}#sk-container-id-2 div.sk-estimator input.sk-toggleable__control:checked~label.sk-toggleable__label {background-color: #d4ebff;}#sk-container-id-2 div.sk-label input.sk-toggleable__control:checked~label.sk-toggleable__label {background-color: #d4ebff;}#sk-container-id-2 input.sk-hidden--visually {border: 0;clip: rect(1px 1px 1px 1px);clip: rect(1px, 1px, 1px, 1px);height: 1px;margin: -1px;overflow: hidden;padding: 0;position: absolute;width: 1px;}#sk-container-id-2 div.sk-estimator {font-family: monospace;background-color: #f0f8ff;border: 1px dotted black;border-radius: 0.25em;box-sizing: border-box;margin-bottom: 0.5em;}#sk-container-id-2 div.sk-estimator:hover {background-color: #d4ebff;}#sk-container-id-2 div.sk-parallel-item::after {content: \"\";width: 100%;border-bottom: 1px solid gray;flex-grow: 1;}#sk-container-id-2 div.sk-label:hover label.sk-toggleable__label {background-color: #d4ebff;}#sk-container-id-2 div.sk-serial::before {content: \"\";position: absolute;border-left: 1px solid gray;box-sizing: border-box;top: 0;bottom: 0;left: 50%;z-index: 0;}#sk-container-id-2 div.sk-serial {display: flex;flex-direction: column;align-items: center;background-color: white;padding-right: 0.2em;padding-left: 0.2em;position: relative;}#sk-container-id-2 div.sk-item {position: relative;z-index: 1;}#sk-container-id-2 div.sk-parallel {display: flex;align-items: stretch;justify-content: center;background-color: white;position: relative;}#sk-container-id-2 div.sk-item::before, #sk-container-id-2 div.sk-parallel-item::before {content: \"\";position: absolute;border-left: 1px solid gray;box-sizing: border-box;top: 0;bottom: 0;left: 50%;z-index: -1;}#sk-container-id-2 div.sk-parallel-item {display: flex;flex-direction: column;z-index: 1;position: relative;background-color: white;}#sk-container-id-2 div.sk-parallel-item:first-child::after {align-self: flex-end;width: 50%;}#sk-container-id-2 div.sk-parallel-item:last-child::after {align-self: flex-start;width: 50%;}#sk-container-id-2 div.sk-parallel-item:only-child::after {width: 0;}#sk-container-id-2 div.sk-dashed-wrapped {border: 1px dashed gray;margin: 0 0.4em 0.5em 0.4em;box-sizing: border-box;padding-bottom: 0.4em;background-color: white;}#sk-container-id-2 div.sk-label label {font-family: monospace;font-weight: bold;display: inline-block;line-height: 1.2em;}#sk-container-id-2 div.sk-label-container {text-align: center;}#sk-container-id-2 div.sk-container {/* jupyter's `normalize.less` sets `[hidden] { display: none; }` but bootstrap.min.css set `[hidden] { display: none !important; }` so we also need the `!important` here to be able to override the default hidden behavior on the sphinx rendered scikit-learn.org. See: https://github.com/scikit-learn/scikit-learn/issues/21755 */display: inline-block !important;position: relative;}#sk-container-id-2 div.sk-text-repr-fallback {display: none;}</style><div id=\"sk-container-id-2\" class=\"sk-top-container\"><div class=\"sk-text-repr-fallback\"><pre>KMeans(n_clusters=2)</pre><b>In a Jupyter environment, please rerun this cell to show the HTML representation or trust the notebook. <br />On GitHub, the HTML representation is unable to render, please try loading this page with nbviewer.org.</b></div><div class=\"sk-container\" hidden><div class=\"sk-item\"><div class=\"sk-estimator sk-toggleable\"><input class=\"sk-toggleable__control sk-hidden--visually\" id=\"sk-estimator-id-2\" type=\"checkbox\" checked><label for=\"sk-estimator-id-2\" class=\"sk-toggleable__label sk-toggleable__label-arrow\">KMeans</label><div class=\"sk-toggleable__content\"><pre>KMeans(n_clusters=2)</pre></div></div></div></div></div>"
      ],
      "text/plain": [
       "KMeans(n_clusters=2)"
      ]
     },
     "execution_count": 12,
     "metadata": {},
     "output_type": "execute_result"
    }
   ],
   "source": [
    "from sklearn.cluster import KMeans\n",
    "\n",
    "num_clusters = 2\n",
    "kmeans = KMeans(n_clusters=num_clusters)\n",
    "kmeans.fit(features)\n"
   ]
  },
  {
   "cell_type": "code",
   "execution_count": 13,
   "metadata": {},
   "outputs": [],
   "source": [
    "cluster_labels = kmeans.labels_\n"
   ]
  },
  {
   "cell_type": "code",
   "execution_count": 16,
   "metadata": {},
   "outputs": [
    {
     "name": "stdout",
     "output_type": "stream",
     "text": [
      "Clustering accuracy: 0.842655752614825\n"
     ]
    }
   ],
   "source": [
    "import numpy as np\n",
    "\n",
    "# Convert 'Blue' to 1 and 'Brown' to 0 in the 'Prediction' column\n",
    "df['Prediction'] = np.where(df['Prediction'] == 'Blue', 1, 0)\n",
    "\n",
    "# Compare the converted 'Prediction' values with the cluster labels\n",
    "accuracy = np.mean(cluster_labels == df['Prediction'].values)\n",
    "print(\"Clustering accuracy:\", accuracy)\n"
   ]
  },
  {
   "cell_type": "code",
   "execution_count": 17,
   "metadata": {},
   "outputs": [
    {
     "name": "stdout",
     "output_type": "stream",
     "text": [
      "Confusion Matrix:\n",
      "[[1266  331]\n",
      " [  15  587]]\n"
     ]
    }
   ],
   "source": [
    "from sklearn.metrics import confusion_matrix\n",
    "confusion = confusion_matrix(df['Prediction'].values, cluster_labels)\n",
    "\n",
    "print(\"Confusion Matrix:\")\n",
    "print(confusion)"
   ]
  },
  {
   "cell_type": "code",
   "execution_count": 18,
   "metadata": {},
   "outputs": [
    {
     "data": {
      "text/html": [
       "<div>\n",
       "<style scoped>\n",
       "    .dataframe tbody tr th:only-of-type {\n",
       "        vertical-align: middle;\n",
       "    }\n",
       "\n",
       "    .dataframe tbody tr th {\n",
       "        vertical-align: top;\n",
       "    }\n",
       "\n",
       "    .dataframe thead th {\n",
       "        text-align: right;\n",
       "    }\n",
       "</style>\n",
       "<table border=\"1\" class=\"dataframe\">\n",
       "  <thead>\n",
       "    <tr style=\"text-align: right;\">\n",
       "      <th></th>\n",
       "      <th>Image Name</th>\n",
       "      <th>X</th>\n",
       "      <th>Y</th>\n",
       "      <th>Grayscale</th>\n",
       "      <th>Prediction</th>\n",
       "      <th>FinalPred</th>\n",
       "      <th>L</th>\n",
       "      <th>A</th>\n",
       "      <th>B</th>\n",
       "    </tr>\n",
       "  </thead>\n",
       "  <tbody>\n",
       "    <tr>\n",
       "      <th>0</th>\n",
       "      <td>101.png</td>\n",
       "      <td>18</td>\n",
       "      <td>181</td>\n",
       "      <td>0.440910</td>\n",
       "      <td>0</td>\n",
       "      <td>M</td>\n",
       "      <td>47.8589</td>\n",
       "      <td>7.9936</td>\n",
       "      <td>17.8166</td>\n",
       "    </tr>\n",
       "    <tr>\n",
       "      <th>1</th>\n",
       "      <td>101.png</td>\n",
       "      <td>4</td>\n",
       "      <td>183</td>\n",
       "      <td>0.321999</td>\n",
       "      <td>0</td>\n",
       "      <td>M</td>\n",
       "      <td>35.0719</td>\n",
       "      <td>3.7042</td>\n",
       "      <td>9.2271</td>\n",
       "    </tr>\n",
       "    <tr>\n",
       "      <th>2</th>\n",
       "      <td>101.png</td>\n",
       "      <td>22</td>\n",
       "      <td>198</td>\n",
       "      <td>0.206204</td>\n",
       "      <td>0</td>\n",
       "      <td>S</td>\n",
       "      <td>22.7863</td>\n",
       "      <td>12.2881</td>\n",
       "      <td>12.7410</td>\n",
       "    </tr>\n",
       "    <tr>\n",
       "      <th>3</th>\n",
       "      <td>101.png</td>\n",
       "      <td>41</td>\n",
       "      <td>177</td>\n",
       "      <td>0.425567</td>\n",
       "      <td>1</td>\n",
       "      <td>N</td>\n",
       "      <td>46.0002</td>\n",
       "      <td>7.7083</td>\n",
       "      <td>-17.4352</td>\n",
       "    </tr>\n",
       "    <tr>\n",
       "      <th>4</th>\n",
       "      <td>101.png</td>\n",
       "      <td>42</td>\n",
       "      <td>154</td>\n",
       "      <td>0.230566</td>\n",
       "      <td>0</td>\n",
       "      <td>S</td>\n",
       "      <td>25.5579</td>\n",
       "      <td>12.4580</td>\n",
       "      <td>12.6452</td>\n",
       "    </tr>\n",
       "    <tr>\n",
       "      <th>...</th>\n",
       "      <td>...</td>\n",
       "      <td>...</td>\n",
       "      <td>...</td>\n",
       "      <td>...</td>\n",
       "      <td>...</td>\n",
       "      <td>...</td>\n",
       "      <td>...</td>\n",
       "      <td>...</td>\n",
       "      <td>...</td>\n",
       "    </tr>\n",
       "    <tr>\n",
       "      <th>2194</th>\n",
       "      <td>997.png</td>\n",
       "      <td>3</td>\n",
       "      <td>151</td>\n",
       "      <td>0.218259</td>\n",
       "      <td>0</td>\n",
       "      <td>S</td>\n",
       "      <td>24.0471</td>\n",
       "      <td>10.1756</td>\n",
       "      <td>14.4210</td>\n",
       "    </tr>\n",
       "    <tr>\n",
       "      <th>2195</th>\n",
       "      <td>997.png</td>\n",
       "      <td>23</td>\n",
       "      <td>184</td>\n",
       "      <td>0.141049</td>\n",
       "      <td>0</td>\n",
       "      <td>S</td>\n",
       "      <td>14.5117</td>\n",
       "      <td>6.7135</td>\n",
       "      <td>7.1033</td>\n",
       "    </tr>\n",
       "    <tr>\n",
       "      <th>2196</th>\n",
       "      <td>997.png</td>\n",
       "      <td>24</td>\n",
       "      <td>170</td>\n",
       "      <td>0.276107</td>\n",
       "      <td>0</td>\n",
       "      <td>M</td>\n",
       "      <td>30.1705</td>\n",
       "      <td>12.0265</td>\n",
       "      <td>-8.2462</td>\n",
       "    </tr>\n",
       "    <tr>\n",
       "      <th>2197</th>\n",
       "      <td>997.png</td>\n",
       "      <td>75</td>\n",
       "      <td>167</td>\n",
       "      <td>0.266614</td>\n",
       "      <td>0</td>\n",
       "      <td>M</td>\n",
       "      <td>28.8756</td>\n",
       "      <td>1.7310</td>\n",
       "      <td>3.3406</td>\n",
       "    </tr>\n",
       "    <tr>\n",
       "      <th>2198</th>\n",
       "      <td>997.png</td>\n",
       "      <td>12</td>\n",
       "      <td>166</td>\n",
       "      <td>0.218981</td>\n",
       "      <td>0</td>\n",
       "      <td>S</td>\n",
       "      <td>23.6198</td>\n",
       "      <td>8.7595</td>\n",
       "      <td>-5.1146</td>\n",
       "    </tr>\n",
       "  </tbody>\n",
       "</table>\n",
       "<p>2199 rows × 9 columns</p>\n",
       "</div>"
      ],
      "text/plain": [
       "     Image Name   X    Y  Grayscale  Prediction FinalPred        L        A  \\\n",
       "0       101.png  18  181   0.440910           0         M  47.8589   7.9936   \n",
       "1       101.png   4  183   0.321999           0         M  35.0719   3.7042   \n",
       "2       101.png  22  198   0.206204           0         S  22.7863  12.2881   \n",
       "3       101.png  41  177   0.425567           1         N  46.0002   7.7083   \n",
       "4       101.png  42  154   0.230566           0         S  25.5579  12.4580   \n",
       "...         ...  ..  ...        ...         ...       ...      ...      ...   \n",
       "2194    997.png   3  151   0.218259           0         S  24.0471  10.1756   \n",
       "2195    997.png  23  184   0.141049           0         S  14.5117   6.7135   \n",
       "2196    997.png  24  170   0.276107           0         M  30.1705  12.0265   \n",
       "2197    997.png  75  167   0.266614           0         M  28.8756   1.7310   \n",
       "2198    997.png  12  166   0.218981           0         S  23.6198   8.7595   \n",
       "\n",
       "            B  \n",
       "0     17.8166  \n",
       "1      9.2271  \n",
       "2     12.7410  \n",
       "3    -17.4352  \n",
       "4     12.6452  \n",
       "...       ...  \n",
       "2194  14.4210  \n",
       "2195   7.1033  \n",
       "2196  -8.2462  \n",
       "2197   3.3406  \n",
       "2198  -5.1146  \n",
       "\n",
       "[2199 rows x 9 columns]"
      ]
     },
     "execution_count": 18,
     "metadata": {},
     "output_type": "execute_result"
    }
   ],
   "source": [
    "df"
   ]
  },
  {
   "cell_type": "code",
   "execution_count": 35,
   "metadata": {},
   "outputs": [
    {
     "name": "stdout",
     "output_type": "stream",
     "text": [
      "Accuracy: 0.9659090909090909\n",
      "Confusion Matrix:\n",
      "[[1552   45]\n",
      " [  40  562]]\n"
     ]
    }
   ],
   "source": [
    "import pandas as pd\n",
    "from sklearn.linear_model import LogisticRegression\n",
    "from sklearn.model_selection import train_test_split\n",
    "from sklearn.metrics import accuracy_score, confusion_matrix\n",
    "\n",
    "# Assuming your DataFrame is named 'df'\n",
    "# Assuming you have features 'R', 'G', 'B' and the target 'Prediction'\n",
    "\n",
    "# Split the data into features and target\n",
    "X = df[['L', 'A', 'B']]\n",
    "y = df['Prediction']\n",
    "\n",
    "# Split the data into training and testing sets\n",
    "X_train, X_test, y_train, y_test = train_test_split(X, y, test_size=0.2, random_state=42)\n",
    "\n",
    "# Initialize and train the logistic regression model\n",
    "model = LogisticRegression()\n",
    "model.fit(X_train, y_train)\n",
    "\n",
    "# Make predictions on the test set\n",
    "y_pred = model.predict(X_test)\n",
    "total = model.predict(X)\n",
    "\n",
    "accuracy = accuracy_score(y_test, y_pred)\n",
    "confusion = confusion_matrix(y,total)\n",
    "\n",
    "print(\"Accuracy:\", accuracy)\n",
    "print(\"Confusion Matrix:\")\n",
    "print(confusion)\n"
   ]
  },
  {
   "cell_type": "code",
   "execution_count": 39,
   "metadata": {},
   "outputs": [
    {
     "name": "stdout",
     "output_type": "stream",
     "text": [
      "Accuracy: 0.9590909090909091\n",
      "Confusion Matrix:\n",
      "[[1591    6]\n",
      " [  12  590]]\n"
     ]
    }
   ],
   "source": [
    "from sklearn.ensemble import RandomForestClassifier\n",
    "from sklearn.metrics import accuracy_score, confusion_matrix\n",
    "\n",
    "# Assuming your DataFrame is named 'df'\n",
    "# Assuming you have features 'R', 'G', 'B' and the target 'Prediction'\n",
    "\n",
    "# Split the data into features and target\n",
    "X = df[['L', 'A', 'B']]\n",
    "y = df['Prediction']\n",
    "X_train, X_test, y_train, y_test = train_test_split(X, y, test_size=0.2, random_state=42)\n",
    "\n",
    "# Initialize and train the Random Forest classifier\n",
    "model = RandomForestClassifier()\n",
    "model.fit(X_train, y_train)\n",
    "\n",
    "# Make predictions\n",
    "y_pred = model.predict(X_test)\n",
    "total = model.predict(X)\n",
    "# Calculate accuracy and confusion matrix\n",
    "accuracy = accuracy_score(y_test, y_pred)\n",
    "confusion = confusion_matrix(y, total)\n",
    "\n",
    "print(\"Accuracy:\", accuracy)\n",
    "print(\"Confusion Matrix:\")\n",
    "print(confusion)\n"
   ]
  },
  {
   "cell_type": "code",
   "execution_count": 45,
   "metadata": {},
   "outputs": [
    {
     "name": "stdout",
     "output_type": "stream",
     "text": [
      "Accuracy: 0.9477272727272728\n",
      "Confusion Matrix:\n",
      "[[1587   10]\n",
      " [  13  589]]\n"
     ]
    }
   ],
   "source": [
    "import xgboost as xgb\n",
    "from sklearn.metrics import accuracy_score, confusion_matrix\n",
    "\n",
    "# Assuming your DataFrame is named 'df'\n",
    "# Assuming you have features 'R', 'G', 'B' and the target 'Prediction'\n",
    "\n",
    "# Split the data into features and target\n",
    "X = df[['L', 'A', 'B']]\n",
    "y = df['Prediction']\n",
    "X_train, X_test, y_train, y_test = train_test_split(X, y, test_size=0.2, random_state=42)\n",
    "\n",
    "# Initialize and train the XGBoost classifier\n",
    "model = xgb.XGBClassifier()\n",
    "model.fit(X_train, y_train)\n",
    "\n",
    "# Make predictions\n",
    "y_pred = model.predict(X_test)\n",
    "total = model.predict(X)\n",
    "# Calculate accuracy and confusion matrix\n",
    "accuracy = accuracy_score(y_test, y_pred)\n",
    "confusion = confusion_matrix(y,total)\n",
    "\n",
    "print(\"Accuracy:\", accuracy)\n",
    "print(\"Confusion Matrix:\")\n",
    "print(confusion)\n"
   ]
  },
  {
   "cell_type": "code",
   "execution_count": 47,
   "metadata": {},
   "outputs": [
    {
     "name": "stdout",
     "output_type": "stream",
     "text": [
      "Accuracy: 0.9636363636363636\n",
      "Confusion Matrix:\n",
      "[[1557   40]\n",
      " [  43  559]]\n"
     ]
    }
   ],
   "source": [
    "from sklearn.svm import SVC\n",
    "from sklearn.metrics import accuracy_score, confusion_matrix\n",
    "\n",
    "# Assuming your DataFrame is named 'df'\n",
    "# Assuming you have features 'R', 'G', 'B' and the target 'Prediction'\n",
    "\n",
    "# Split the data into features and target\n",
    "X = df[['L', 'A', 'B']]\n",
    "y = df['Prediction']\n",
    "X_train, X_test, y_train, y_test = train_test_split(X, y, test_size=0.2, random_state=42)\n",
    "\n",
    "# Initialize and train the SVM classifier\n",
    "model = SVC()\n",
    "model.fit(X_train, y_train)\n",
    "\n",
    "# Make predictions\n",
    "y_pred = model.predict(X_test)\n",
    "total = model.predict(X)\n",
    "# Calculate accuracy and confusion matrix\n",
    "accuracy = accuracy_score(y_test, y_pred)\n",
    "confusion = confusion_matrix(y, total)\n",
    "\n",
    "print(\"Accuracy:\", accuracy)\n",
    "print(\"Confusion Matrix:\")\n",
    "print(confusion)\n"
   ]
  },
  {
   "cell_type": "code",
   "execution_count": 48,
   "metadata": {},
   "outputs": [
    {
     "name": "stdout",
     "output_type": "stream",
     "text": [
      "Accuracy: 0.9568181818181818\n",
      "Confusion Matrix:\n",
      "[[1549   48]\n",
      " [  45  557]]\n"
     ]
    }
   ],
   "source": [
    "from sklearn.neural_network import MLPClassifier\n",
    "from sklearn.metrics import accuracy_score, confusion_matrix\n",
    "\n",
    "# Assuming your DataFrame is named 'df'\n",
    "# Assuming you have features 'R', 'G', 'B' and the target 'Prediction'\n",
    "\n",
    "# Split the data into features and target\n",
    "X = df[['L', 'A', 'B']]\n",
    "y = df['Prediction']\n",
    "X_train, X_test, y_train, y_test = train_test_split(X, y, test_size=0.2, random_state=42)\n",
    "\n",
    "# Initialize and train the MLP classifier\n",
    "model = MLPClassifier()\n",
    "model.fit(X_train, y_train)\n",
    "\n",
    "# Make predictions\n",
    "y_pred = model.predict(X_test)\n",
    "total = model.predict(X)\n",
    "\n",
    "# Calculate accuracy and confusion matrix\n",
    "accuracy = accuracy_score(y_test, y_pred)\n",
    "confusion = confusion_matrix(y, total)\n",
    "\n",
    "print(\"Accuracy:\", accuracy)\n",
    "print(\"Confusion Matrix:\")\n",
    "print(confusion)\n"
   ]
  }
 ],
 "metadata": {
  "kernelspec": {
   "display_name": "Python 3",
   "language": "python",
   "name": "python3"
  },
  "language_info": {
   "codemirror_mode": {
    "name": "ipython",
    "version": 3
   },
   "file_extension": ".py",
   "mimetype": "text/x-python",
   "name": "python",
   "nbconvert_exporter": "python",
   "pygments_lexer": "ipython3",
   "version": "3.10.1"
  },
  "orig_nbformat": 4
 },
 "nbformat": 4,
 "nbformat_minor": 2
}
