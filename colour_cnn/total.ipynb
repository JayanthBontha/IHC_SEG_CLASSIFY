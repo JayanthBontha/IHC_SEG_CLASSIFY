{
 "cells": [
  {
   "cell_type": "code",
   "execution_count": 5,
   "metadata": {},
   "outputs": [
    {
     "data": {
      "text/plain": [
       "Index(['Count', 'Serial No.', 'Image Name', 'Annotations', 'X', 'Y', 'R', 'G',\n",
       "       'B', 'Grayscale', 'Hex', 'Prediction', 'CountBlue', 'CountBrown',\n",
       "       'Image Name.1', 'browntype', 'FinalPred', 'CountW', 'CountM', 'CountS',\n",
       "       'CountN'],\n",
       "      dtype='object')"
      ]
     },
     "execution_count": 5,
     "metadata": {},
     "output_type": "execute_result"
    }
   ],
   "source": [
    "import pandas as pd\n",
    "from PIL import Image\n",
    "df = pd.read_csv('finaldata.csv')\n",
    "df.columns"
   ]
  },
  {
   "cell_type": "code",
   "execution_count": 8,
   "metadata": {},
   "outputs": [
    {
     "name": "stdout",
     "output_type": "stream",
     "text": [
      "image index out of range\n",
      "image index out of range\n",
      "image index out of range\n",
      "image index out of range\n",
      "image index out of range\n",
      "image index out of range\n",
      "image index out of range\n",
      "image index out of range\n",
      "image index out of range\n",
      "image index out of range\n",
      "image index out of range\n",
      "image index out of range\n",
      "image index out of range\n",
      "image index out of range\n"
     ]
    }
   ],
   "source": [
    "for index, row in df.iterrows():\n",
    "    pixel=[0,0,0,0]\n",
    "    x = row['X']\n",
    "    y = row['Y']\n",
    "    image = Image.open(\"images/\"+row['Image Name'])\n",
    "    try:\n",
    "        for i in range(x-1,x+2):\n",
    "            for j in range(y-1,y+2):\n",
    "                pixel+=image.getpixel((i,j))\n",
    "        pixel[0]=pixel[0]/9\n",
    "        pixel[1]=pixel[1]/9\n",
    "        pixel[2]=pixel[2]/9\n",
    "        row['R']=pixel[0]\n",
    "        row['G']=pixel[1]\n",
    "        row['B']=pixel[2]\n",
    "        row['A']=pixel[3]\n",
    "    except Exception as e:\n",
    "        row['A']=0\n",
    "        print(e)\n",
    "\n",
    "df.to_csv('finaldata2.csv',index=False)"
   ]
  }
 ],
 "metadata": {
  "kernelspec": {
   "display_name": "Python 3",
   "language": "python",
   "name": "python3"
  },
  "language_info": {
   "codemirror_mode": {
    "name": "ipython",
    "version": 3
   },
   "file_extension": ".py",
   "mimetype": "text/x-python",
   "name": "python",
   "nbconvert_exporter": "python",
   "pygments_lexer": "ipython3",
   "version": "3.10.1"
  },
  "orig_nbformat": 4
 },
 "nbformat": 4,
 "nbformat_minor": 2
}
